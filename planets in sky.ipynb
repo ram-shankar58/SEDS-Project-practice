{
  "nbformat": 4,
  "nbformat_minor": 0,
  "metadata": {
    "colab": {
      "provenance": [],
      "authorship_tag": "ABX9TyOkjkWUYWHnlAM+rA1b/C99",
      "include_colab_link": true
    },
    "kernelspec": {
      "name": "python3",
      "display_name": "Python 3"
    },
    "language_info": {
      "name": "python"
    }
  },
  "cells": [
    {
      "cell_type": "markdown",
      "metadata": {
        "id": "view-in-github",
        "colab_type": "text"
      },
      "source": [
        "<a href=\"https://colab.research.google.com/github/ram-shankar58/SEDS-Project-practice/blob/main/planets%20in%20sky.ipynb\" target=\"_parent\"><img src=\"https://colab.research.google.com/assets/colab-badge.svg\" alt=\"Open In Colab\"/></a>"
      ]
    },
    {
      "cell_type": "code",
      "execution_count": 1,
      "metadata": {
        "colab": {
          "base_uri": "https://localhost:8080/"
        },
        "id": "qh08Ged1XxaF",
        "outputId": "7c92e9eb-7065-4ed1-9bf3-05d636f21673"
      },
      "outputs": [
        {
          "output_type": "stream",
          "name": "stdout",
          "text": [
            "Looking in indexes: https://pypi.org/simple, https://us-python.pkg.dev/colab-wheels/public/simple/\n",
            "Collecting spiceypy\n",
            "  Downloading spiceypy-5.1.2-py3-none-manylinux_2_17_x86_64.manylinux2014_x86_64.whl (1.7 MB)\n",
            "\u001b[2K     \u001b[90m━━━━━━━━━━━━━━━━━━━━━━━━━━━━━━━━━━━━━━━━\u001b[0m \u001b[32m1.7/1.7 MB\u001b[0m \u001b[31m27.9 MB/s\u001b[0m eta \u001b[36m0:00:00\u001b[0m\n",
            "\u001b[?25hRequirement already satisfied: numpy>=1.17.0 in /usr/local/lib/python3.9/dist-packages (from spiceypy) (1.22.4)\n",
            "Installing collected packages: spiceypy\n",
            "Successfully installed spiceypy-5.1.2\n"
          ]
        }
      ],
      "source": [
        "!pip install spiceypy\n",
        "import datetime\n",
        "import math\n",
        "import numpy as np\n",
        "import pandas as pd\n",
        "import spiceypy\n",
        "#loading the kernel\n",
        "\n",
        "spiceypy.furnsh('../otherfiles/kernels/lsk/naif0012.tls')\n",
        "spiceypy.furnsh('..../otherkernels/spk/de432s.bsp')\n",
        "\n",
        "# Create an initial and ending time date-time object that is converted to a string\n",
        "initial_utc_str = datetime.datetime(year=2021, month=10, day=1).strftime('%Y-%m-%dT%H:%M:%S')\n",
        "endtime_utc_str = datetime.datetime(year=2022, month=6, day=1).strftime('%Y-%m-%dT%H:%M:%S')\n",
        "\n"
      ]
    }
  ]
}