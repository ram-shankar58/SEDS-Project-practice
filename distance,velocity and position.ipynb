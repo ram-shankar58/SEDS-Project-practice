{
  "nbformat": 4,
  "nbformat_minor": 0,
  "metadata": {
    "colab": {
      "provenance": [],
      "authorship_tag": "ABX9TyN+6XY93Okt6i/hCwYsFJPZ",
      "include_colab_link": true
    },
    "kernelspec": {
      "name": "python3",
      "display_name": "Python 3"
    },
    "language_info": {
      "name": "python"
    }
  },
  "cells": [
    {
      "cell_type": "markdown",
      "metadata": {
        "id": "view-in-github",
        "colab_type": "text"
      },
      "source": [
        "<a href=\"https://colab.research.google.com/github/ram-shankar58/SEDS-Project-practice/blob/main/distance%2Cvelocity%20and%20position.ipynb\" target=\"_parent\"><img src=\"https://colab.research.google.com/assets/colab-badge.svg\" alt=\"Open In Colab\"/></a>"
      ]
    },
    {
      "cell_type": "code",
      "execution_count": 2,
      "metadata": {
        "colab": {
          "base_uri": "https://localhost:8080/",
          "height": 623
        },
        "id": "rfDQTYEaYCde",
        "outputId": "40037cf8-8539-4467-f42f-84078f64b758"
      },
      "outputs": [
        {
          "output_type": "stream",
          "name": "stdout",
          "text": [
            "Looking in indexes: https://pypi.org/simple, https://us-python.pkg.dev/colab-wheels/public/simple/\n",
            "Requirement already satisfied: spiceypy in /usr/local/lib/python3.9/dist-packages (5.1.2)\n",
            "Requirement already satisfied: numpy>=1.17.0 in /usr/local/lib/python3.9/dist-packages (from spiceypy) (1.22.4)\n"
          ]
        },
        {
          "output_type": "error",
          "ename": "SpiceNOSUCHFILE",
          "evalue": "ignored",
          "traceback": [
            "\u001b[0;31m---------------------------------------------------------------------------\u001b[0m",
            "\u001b[0;31mSpiceNOSUCHFILE\u001b[0m                           Traceback (most recent call last)",
            "\u001b[0;32m<ipython-input-2-8260eaf9056c>\u001b[0m in \u001b[0;36m<cell line: 15>\u001b[0;34m()\u001b[0m\n\u001b[1;32m     13\u001b[0m \u001b[0;31m#Accessing the downlaoded kernel\u001b[0m\u001b[0;34m\u001b[0m\u001b[0;34m\u001b[0m\u001b[0m\n\u001b[1;32m     14\u001b[0m \u001b[0;34m\u001b[0m\u001b[0m\n\u001b[0;32m---> 15\u001b[0;31m \u001b[0mspiceypy\u001b[0m\u001b[0;34m.\u001b[0m\u001b[0mfurnsh\u001b[0m\u001b[0;34m(\u001b[0m\u001b[0;34m'../otherfiles/kernels/lsk/naif0012.tls'\u001b[0m\u001b[0;34m)\u001b[0m\u001b[0;34m\u001b[0m\u001b[0;34m\u001b[0m\u001b[0m\n\u001b[0m\u001b[1;32m     16\u001b[0m \u001b[0mspiceypy\u001b[0m\u001b[0;34m.\u001b[0m\u001b[0mfurnsh\u001b[0m\u001b[0;34m(\u001b[0m\u001b[0;34m'../otherkernels/spk/de432s.bsp'\u001b[0m\u001b[0;34m)\u001b[0m\u001b[0;34m\u001b[0m\u001b[0;34m\u001b[0m\u001b[0m\n\u001b[1;32m     17\u001b[0m \u001b[0;34m\u001b[0m\u001b[0m\n",
            "\u001b[0;32m/usr/local/lib/python3.9/dist-packages/spiceypy/spiceypy.py\u001b[0m in \u001b[0;36mwith_errcheck\u001b[0;34m(*args, **kwargs)\u001b[0m\n\u001b[1;32m    137\u001b[0m         \u001b[0;32mtry\u001b[0m\u001b[0;34m:\u001b[0m\u001b[0;34m\u001b[0m\u001b[0;34m\u001b[0m\u001b[0m\n\u001b[1;32m    138\u001b[0m             \u001b[0mres\u001b[0m \u001b[0;34m=\u001b[0m \u001b[0mf\u001b[0m\u001b[0;34m(\u001b[0m\u001b[0;34m*\u001b[0m\u001b[0margs\u001b[0m\u001b[0;34m,\u001b[0m \u001b[0;34m**\u001b[0m\u001b[0mkwargs\u001b[0m\u001b[0;34m)\u001b[0m\u001b[0;34m\u001b[0m\u001b[0;34m\u001b[0m\u001b[0m\n\u001b[0;32m--> 139\u001b[0;31m             \u001b[0mcheck_for_spice_error\u001b[0m\u001b[0;34m(\u001b[0m\u001b[0mf\u001b[0m\u001b[0;34m)\u001b[0m\u001b[0;34m\u001b[0m\u001b[0;34m\u001b[0m\u001b[0m\n\u001b[0m\u001b[1;32m    140\u001b[0m             \u001b[0;32mreturn\u001b[0m \u001b[0mres\u001b[0m\u001b[0;34m\u001b[0m\u001b[0;34m\u001b[0m\u001b[0m\n\u001b[1;32m    141\u001b[0m         \u001b[0;32mexcept\u001b[0m \u001b[0mBaseException\u001b[0m\u001b[0;34m:\u001b[0m\u001b[0;34m\u001b[0m\u001b[0;34m\u001b[0m\u001b[0m\n",
            "\u001b[0;32m/usr/local/lib/python3.9/dist-packages/spiceypy/spiceypy.py\u001b[0m in \u001b[0;36mcheck_for_spice_error\u001b[0;34m(f)\u001b[0m\n\u001b[1;32m    120\u001b[0m         \u001b[0mtraceback\u001b[0m \u001b[0;34m=\u001b[0m \u001b[0mqcktrc\u001b[0m\u001b[0;34m(\u001b[0m\u001b[0;36m200\u001b[0m\u001b[0;34m)\u001b[0m\u001b[0;34m\u001b[0m\u001b[0;34m\u001b[0m\u001b[0m\n\u001b[1;32m    121\u001b[0m         \u001b[0mreset\u001b[0m\u001b[0;34m(\u001b[0m\u001b[0;34m)\u001b[0m\u001b[0;34m\u001b[0m\u001b[0;34m\u001b[0m\u001b[0m\n\u001b[0;32m--> 122\u001b[0;31m         raise dynamically_instantiate_spiceyerror(\n\u001b[0m\u001b[1;32m    123\u001b[0m             \u001b[0mshort\u001b[0m\u001b[0;34m=\u001b[0m\u001b[0mshort\u001b[0m\u001b[0;34m,\u001b[0m \u001b[0mexplain\u001b[0m\u001b[0;34m=\u001b[0m\u001b[0mexplain\u001b[0m\u001b[0;34m,\u001b[0m \u001b[0mlong\u001b[0m\u001b[0;34m=\u001b[0m\u001b[0mlong\u001b[0m\u001b[0;34m,\u001b[0m \u001b[0mtraceback\u001b[0m\u001b[0;34m=\u001b[0m\u001b[0mtraceback\u001b[0m\u001b[0;34m\u001b[0m\u001b[0;34m\u001b[0m\u001b[0m\n\u001b[1;32m    124\u001b[0m         )\n",
            "\u001b[0;31mSpiceNOSUCHFILE\u001b[0m: \n================================================================================\n\nToolkit version: CSPICE_N0067\n\nSPICE(NOSUCHFILE) --\n\nThe attempt to load \"../otherfiles/kernels/lsk/naif0012.tls\" by the routine FURNSH failed. It could not be located.\n\nfurnsh_c --> FURNSH --> ZZLDKER\n\n================================================================================"
          ]
        }
      ],
      "source": [
        "!pip install spiceypy\n",
        "import spiceypy\n",
        "import datetime as dt\n",
        "import math\n",
        "#import spiceypy\n",
        "\n",
        "#Finding today date\n",
        "today = dt.datetime.today\n",
        "#Kernals are where the actual planetary/spacecraft flight data are stored, not in libraries.\n",
        "'''Both ESA and NASA-jpl have these informations. We can import from their websites.\n",
        "Now loading spice kernals for data for planets: '''\n",
        "\n",
        "#Accessing the downlaoded kernel\n",
        "\n",
        "spiceypy.furnsh('../otherfiles/kernels/lsk/naif0012.tls')\n",
        "spiceypy.furnsh('../otherfiles/kernels/spk/de432s.bsp')\n",
        "\n",
        "#help(spiceypy.furnsh)\n",
        "\n",
        "#converting into string\n",
        "td = dt.datetime.today()\n",
        "tdstr = td.strftime('%Y-%m-%dT00:00:00')\n",
        "\n",
        "#Computing ephermis time:\n",
        "ephtime = spiceypy.utc2et(tdstr)\n",
        "\n",
        "#Computing the state vector of the Earth w.r.t. the Sun\n",
        "\n",
        "earthstate, earthsunlighttime = spiceypy.spkgeo(targ=399,\n",
        "                                                et=et_today_midnight,\n",
        "                                                ref='ECLIPJ2000',\n",
        "                                                obs=10)\n",
        "# The state vector is 6 dimensional: x,y,z in km and the corresponding velocities in km/s\n",
        "\n",
        "#earthstate is the state vector of earth with respect to sun today.\n",
        "\n",
        "#Computing the distance(in km)\n",
        "\n",
        "earth_distance = math.sqrt(earthstate[0]**2.0 \\\n",
        "                             + earthstate[1]**2.0 \\\n",
        "                             + earthstate[2]**2.0)\n",
        "#Converting km into AU\n",
        "\n",
        "earthdistanceAU = spiceypy.convrt(earth_distance, 'km', 'AU')\n",
        "#This gives the distance of earth in AU\n",
        "\n",
        "import numpy as np\n",
        "\n",
        "#Converting into numpy array\n",
        "\n",
        "earthstate=np.array(earthstate)\n",
        "\n",
        "#Finding distancce\n",
        "\n",
        "earthdistance=np.linalg.norm(earthstate[:3])\n",
        "\n",
        "#Computing orbital speed\n",
        "\n",
        "earthvelocity=np.linalg.norm(earthstate[3:])\n",
        "#This earthvelocity contains the velocity of earth\n",
        "\n",
        "''' Finding therorietically:\n",
        "# First, load the kernel\n",
        "spiceypy.furnsh('../otherfiles/kernels/pck/gm_de431.tpc')\n",
        "_, GM_SUN = spiceypy.bodvcd(bodyid=10, item='GM', maxn=1)\n",
        "\n",
        "# Now compute the orbital speed\n",
        "v_orb_func = lambda gm, r: np.sqrt(gm/r)\n",
        "earthspeedtheory = v_orb_func(GM_SUN[0], earthdistance)\n",
        "\n",
        "'''\n",
        "\n",
        "\n",
        "\n",
        "\n",
        "\n"
      ]
    }
  ]
}